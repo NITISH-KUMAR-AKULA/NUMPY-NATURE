{
 "cells": [
  {
   "cell_type": "markdown",
   "id": "c4d59c43",
   "metadata": {},
   "source": [
    "# ⚡ Advanced NumPy Practice"
   ]
  },
  {
   "cell_type": "markdown",
   "id": "e2af5087",
   "metadata": {},
   "source": [
    "This notebook covers **advanced NumPy concepts** beyond the basics.  \n",
    "We will explore powerful features of NumPy for **high-performance numerical computing**.\n"
   ]
  },
  {
   "cell_type": "markdown",
   "id": "3230d069",
   "metadata": {},
   "source": [
    "## 1️⃣ Advanced Array Operations"
   ]
  },
  {
   "cell_type": "code",
   "execution_count": null,
   "id": "1b77a595",
   "metadata": {},
   "outputs": [],
   "source": [
    "import numpy as np\n",
    "\n",
    "# Broadcasting example\n",
    "a = np.array([1, 2, 3])\n",
    "b = np.array([[10], [20], [30]])\n",
    "print(\"Broadcasting Result:\\n\", a + b)\n",
    "\n",
    "# Fancy indexing\n",
    "x = np.arange(10)\n",
    "indices = [2, 5, 7]\n",
    "print(\"Fancy Indexing:\", x[indices])\n",
    "\n",
    "# Boolean indexing\n",
    "print(\"Boolean Indexing:\", x[x % 2 == 0])"
   ]
  },
  {
   "cell_type": "markdown",
   "id": "9f923cfe",
   "metadata": {},
   "source": [
    "## 2️⃣ Mathematical & Statistical Functions"
   ]
  },
  {
   "cell_type": "code",
   "execution_count": null,
   "id": "4d73230b",
   "metadata": {},
   "outputs": [],
   "source": [
    "data = np.random.randint(1, 100, size=(5,5))\n",
    "print(\"Data:\\n\", data)\n",
    "\n",
    "print(\"Mean of all elements:\", data.mean())\n",
    "print(\"Column-wise mean:\", data.mean(axis=0))\n",
    "print(\"Row-wise sum:\", data.sum(axis=1))"
   ]
  },
  {
   "cell_type": "markdown",
   "id": "ff0edb17",
   "metadata": {},
   "source": [
    "## 3️⃣ Linear Algebra with NumPy"
   ]
  },
  {
   "cell_type": "code",
   "execution_count": null,
   "id": "9fad11b4",
   "metadata": {},
   "outputs": [],
   "source": [
    "A = np.array([[1, 2], [3, 4]])\n",
    "B = np.array([[5, 6], [7, 8]])\n",
    "\n",
    "# Dot product & Matrix multiplication\n",
    "print(\"Dot Product:\\n\", np.dot(A, B))\n",
    "print(\"Matrix Multiplication:\\n\", A @ B)\n",
    "\n",
    "# Determinant & Eigenvalues\n",
    "print(\"Determinant of A:\", np.linalg.det(A))\n",
    "eigenvalues, eigenvectors = np.linalg.eig(A)\n",
    "print(\"Eigenvalues:\", eigenvalues)\n",
    "print(\"Eigenvectors:\\n\", eigenvectors)"
   ]
  },
  {
   "cell_type": "markdown",
   "id": "485cbf29",
   "metadata": {},
   "source": [
    "## 4️⃣ Random Module (Simulation)"
   ]
  },
  {
   "cell_type": "code",
   "execution_count": null,
   "id": "fbfa07a0",
   "metadata": {},
   "outputs": [],
   "source": [
    "# Random sampling\n",
    "rand_nums = np.random.rand(5)\n",
    "print(\"Random Numbers (0-1):\", rand_nums)\n",
    "\n",
    "# Normal distribution\n",
    "normal_dist = np.random.normal(loc=0, scale=1, size=10)\n",
    "print(\"Normal Distribution Sample:\", normal_dist)\n",
    "\n",
    "# Shuffle\n",
    "arr = np.arange(10)\n",
    "np.random.shuffle(arr)\n",
    "print(\"Shuffled Array:\", arr)"
   ]
  },
  {
   "cell_type": "markdown",
   "id": "7045ae77",
   "metadata": {},
   "source": [
    "## 5️⃣ Advanced Tricks"
   ]
  },
  {
   "cell_type": "code",
   "execution_count": null,
   "id": "d53cec4c",
   "metadata": {},
   "outputs": [],
   "source": [
    "# Memory efficiency - Views vs Copies\n",
    "arr = np.arange(10)\n",
    "view = arr[::2]\n",
    "copy = arr[::2].copy()\n",
    "\n",
    "view[0] = 100\n",
    "print(\"Original after modifying view:\", arr)\n",
    "print(\"Copy is independent:\", copy)\n",
    "\n",
    "# Structured Arrays\n",
    "dt = np.dtype([('name', 'S10'), ('age', 'i4'), ('marks', 'f4')])\n",
    "students = np.array([(\"Alice\", 21, 85.5), (\"Bob\", 22, 90.0)], dtype=dt)\n",
    "print(\"Structured Array:\\n\", students)"
   ]
  },
  {
   "cell_type": "markdown",
   "id": "cbf88cb1",
   "metadata": {},
   "source": [
    "## 🏋️ Exercises"
   ]
  },
  {
   "cell_type": "markdown",
   "id": "3eb832a8",
   "metadata": {},
   "source": [
    "1. Create a 5x5 matrix with values from 1 to 25 and extract the border elements.  \n",
    "2. Generate 1000 random numbers from a normal distribution and compute mean & std.  \n",
    "3. Solve a system of linear equations using `np.linalg.solve`.  \n",
    "4. Compare execution time of a loop vs vectorized NumPy operation.  \n",
    "5. Create a structured array for employees with fields: `id`, `name`, `salary`.  \n"
   ]
  }
 ],
 "metadata": {},
 "nbformat": 4,
 "nbformat_minor": 5
}