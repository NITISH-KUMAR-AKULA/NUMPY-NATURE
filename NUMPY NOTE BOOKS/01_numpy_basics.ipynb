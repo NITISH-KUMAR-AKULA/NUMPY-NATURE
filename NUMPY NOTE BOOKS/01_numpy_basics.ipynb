{
 "cells": [
  {
   "cell_type": "markdown",
   "id": "6a0f76bf",
   "metadata": {},
   "source": [
    "# NumPy Basics 🌱\n",
    "\n",
    "This notebook covers array creation, attributes, and simple operations in NumPy."
   ]
  },
  {
   "cell_type": "markdown",
   "id": "c47ece78",
   "metadata": {},
   "source": [
    "## 1. Import NumPy"
   ]
  },
  {
   "cell_type": "code",
   "execution_count": null,
   "id": "35e26125",
   "metadata": {},
   "outputs": [],
   "source": [
    "import numpy as np"
   ]
  },
  {
   "cell_type": "markdown",
   "id": "8076ea05",
   "metadata": {},
   "source": [
    "## 2. Array Creation\n",
    "Let's start by creating 1D and 2D arrays."
   ]
  },
  {
   "cell_type": "code",
   "execution_count": null,
   "id": "736b8cdd",
   "metadata": {},
   "outputs": [],
   "source": [
    "# 1D array\n",
    "arr1 = np.array([1, 2, 3, 4, 5])\n",
    "print(\"1D Array:\", arr1)\n",
    "\n",
    "# 2D array\n",
    "arr2 = np.array([[1, 2, 3], [4, 5, 6]])\n",
    "print(\"2D Array:\\n\", arr2)"
   ]
  },
  {
   "cell_type": "markdown",
   "id": "f7cab692",
   "metadata": {},
   "source": [
    "## 3. Array Attributes\n",
    "Each NumPy array has useful attributes like shape, dimensions, data type, and size."
   ]
  },
  {
   "cell_type": "code",
   "execution_count": null,
   "id": "eef106ec",
   "metadata": {},
   "outputs": [],
   "source": [
    "print(\"Shape:\", arr2.shape)\n",
    "print(\"Dimensions:\", arr2.ndim)\n",
    "print(\"Data type:\", arr2.dtype)\n",
    "print(\"Size:\", arr2.size)"
   ]
  },
  {
   "cell_type": "markdown",
   "id": "5be3afcd",
   "metadata": {},
   "source": [
    "## 4. Simple Operations\n",
    "We can perform quick mathematical operations directly on arrays."
   ]
  },
  {
   "cell_type": "code",
   "execution_count": null,
   "id": "83c6e870",
   "metadata": {},
   "outputs": [],
   "source": [
    "print(\"Sum:\", arr1.sum())\n",
    "print(\"Mean:\", arr1.mean())\n",
    "print(\"Max:\", arr1.max())"
   ]
  },
  {
   "cell_type": "markdown",
   "id": "8c4ab19e",
   "metadata": {},
   "source": [
    "## 5. Summary\n",
    "- `np.array()` creates arrays  \n",
    "- Attributes: shape, ndim, dtype, size  \n",
    "- Arrays allow fast mathematical operations"
   ]
  }
 ],
 "metadata": {},
 "nbformat": 4,
 "nbformat_minor": 5
}